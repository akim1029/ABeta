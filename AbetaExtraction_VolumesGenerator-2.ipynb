{
 "cells": [
  {
   "cell_type": "code",
   "execution_count": 1,
   "id": "6104ec6d",
   "metadata": {},
   "outputs": [
    {
     "name": "stdout",
     "output_type": "stream",
     "text": [
      "Step 1) Mass of initial brain sample in grams (~ 0.5g): 0.8428\n",
      "Step 3) a. Final volume achieved: 16.856 mL\n",
      "Step 3) b. Added volume: 15.856000000000002 mL\n",
      "Step 4) a. Volume of sarkosyl added: 4.214 mL\n",
      "Step 4) b. Final volume after adding sarkosyl: 21.07 mL\n",
      "Step 7) b. Final volume: 842.8 μL\n",
      "Step 9) Starting volume: 842.8 μL\n",
      "Step 9) Added Second Buffer volume: 1685.6 μL\n",
      "Step 9) Ending volume: 2528.3999999999996 μL\n",
      "Step 11) b. Final volume: 84.28 μL\n",
      "Step 14) a. Amount of 10 mg/mL pronase used: 3.5116666666666667 μL\n"
     ]
    }
   ],
   "source": [
    "sample_mass_str = input(\"Step 1) Mass of initial brain sample in grams (~ 0.5g): \")\n",
    "sample_mass = float(sample_mass_str)\n",
    "\n",
    "step3_final = sample_mass * 20\n",
    "step3_added = step3_final - 1\n",
    "\n",
    "step4_sarkosyl = step3_final / 4\n",
    "step4_final = step3_final + step4_sarkosyl\n",
    "\n",
    "step7 = sample_mass * 1000\n",
    "\n",
    "step9_starting = step7\n",
    "step9_second = step7 * 2\n",
    "step9_ending = step9_starting + step9_second\n",
    "\n",
    "step11 = sample_mass * 100\n",
    "\n",
    "step14 = step11 / 24 \n",
    "\n",
    "print(\"Step 3) a. Final volume achieved: \" + str(step3_final) + \" mL\" +\n",
    "\"\\nStep 3) b. Added volume: \" + str(step3_added) +  \" mL\" +\n",
    "\"\\nStep 4) a. Volume of sarkosyl added: \" + str(step4_sarkosyl)+  \" mL\" +\n",
    "\"\\nStep 4) b. Final volume after adding sarkosyl: \" + str(step4_final)+ \" mL\" +\n",
    "\"\\nStep 7) b. Final volume: \" + str(step7)+ \" \\u03BCL\" + \n",
    "\"\\nStep 9) Starting volume: \" + str(step9_starting)+ \" \\u03BCL\" + \n",
    "\"\\nStep 9) Added Second Buffer volume: \" + str(step9_second)+ \" \\u03BCL\" + \n",
    "\"\\nStep 9) Ending volume: \" + str(step9_ending)+ \" \\u03BCL\" + \n",
    "\"\\nStep 11) b. Final volume: \" + str(step11) +  \" \\u03BCL\" + \n",
    "\"\\nStep 14) a. Amount of 10 mg/mL pronase used: \" + str(step14) +  \" \\u03BCL\")"
   ]
  },
  {
   "cell_type": "code",
   "execution_count": null,
   "id": "d80a8b0a",
   "metadata": {},
   "outputs": [],
   "source": []
  }
 ],
 "metadata": {
  "kernelspec": {
   "display_name": "Python 3 (ipykernel)",
   "language": "python",
   "name": "python3"
  },
  "language_info": {
   "codemirror_mode": {
    "name": "ipython",
    "version": 3
   },
   "file_extension": ".py",
   "mimetype": "text/x-python",
   "name": "python",
   "nbconvert_exporter": "python",
   "pygments_lexer": "ipython3",
   "version": "3.11.4"
  }
 },
 "nbformat": 4,
 "nbformat_minor": 5
}
